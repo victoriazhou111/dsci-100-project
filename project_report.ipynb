{
 "cells": [
  {
   "cell_type": "markdown",
   "id": "8623914c-9cba-4d46-8493-5b826c6f78a7",
   "metadata": {
    "editable": true,
    "slideshow": {
     "slide_type": ""
    },
    "tags": []
   },
   "source": [
    "### Project Report\n",
    "# Predicting Usage of a Video Game Research Server\n",
    "\n",
    "By Victoria Zhou"
   ]
  },
  {
   "cell_type": "markdown",
   "id": "46d5b0d2-4aaf-4e42-baca-73f426bc9be5",
   "metadata": {},
   "source": [
    "## Introduction"
   ]
  },
  {
   "attachments": {},
   "cell_type": "markdown",
   "id": "850d31cc-2cd4-430b-91fa-54332313bfb7",
   "metadata": {},
   "source": [
    "Video games are a major part of modern entertainment and social interaction. As games grow more complex, understanding player behaviour helps improve design and infrastructure. Using data collected from the UBC Computer Science research group, I analyzed whether certain player traits can predict newsletter subscription.\n",
    "\n",
    "My guiding question is: Can experience level, gender, age, and total playtime predict whether a player subscribes to the game-related newsletter?\n",
    "\n",
    "I used two datasets: one with individual player information and another with records of their play sessions.\n",
    "\n",
    "### Players Dataset Summary\n",
    "\n",
    "| Variable Name | Variable Type | Description |\n",
    "| --- | ----------- | -----------|\n",
    "| experience | factor | Level of gameplay experience (Beginner, Amateur, Regular, Pro, Veteran).|\n",
    "| subscribe | logical | Whether the player subscribed to the newsletter (TRUE or FALSE).|\n",
    "| hashedEmail | character | Hashed email identifier (used to anonymize individual players).|\n",
    "| played_hours | numeric | Total number of hours the player has spent on the server.|\n",
    "| name | character | Player’s in-game display name (not used in analysis).|\n",
    "| gender | factor | Player’s self-reported gender (Male, Female, Non-binary, Two-Spirited, Agender, Prefer not to say, Other).|\n",
    "| Age | integer | Player’s age in years.|\n",
    "\n",
    "Summary Statistics & Key Insights\n",
    "- Number of observations: 196 players\n",
    "- Number of variables: 7\n",
    "- Source: Minecraft research server\n",
    "- Collection Method: Player info collected at account registration, and gameplay time was recorded during server use.\n",
    "- Subscription: 144 players subscribed (73%)\n",
    "- Age: Mean = 20.5, Median = 19, Range = 8–50 \n",
    "- Playtime: Mean = 5.85 hours\n",
    "- Most common experience level: Amateur (63 players)\n",
    "- Most common gender: Male (124 players)\n",
    "\n",
    "Observations & Issues\n",
    "- Missing values: Only in Age (2 cases)\n",
    "- Limited behaviour tracking: No session or in-game activity metrics\n",
    "- Sampling bias: Likely overrepresents younger users (median age = 19)\n",
    "\n",
    "### Sessions Dataset Summary\n",
    "\n",
    "| Variable Name | Variable Type | Description |\n",
    "| --- | ----------- | -----------|\n",
    "| hashedEmail | character | Player identifier to link with user-level data.|\n",
    "| start_time | Date | Date the session started (DD/MM/YYYY).|\n",
    "| end_time | Date | Date the session ended (DD/MM/YYYY).|\n",
    "| original_start_time | numeric | Unix timestamp of start time (milliseconds).|\n",
    "| original_end_time | numeric | Unix timestamp of end time (milliseconds).|\n",
    "\n",
    "Summary Statistics & Key Insights\n",
    "- Number of observations: 1,535 session records\n",
    "- Number of variables: 5\n",
    "- Source: Minecraft research server \n",
    "- Collection Method: Collected automatically by the server each time a player logged in and out\n",
    "- Most active player: Logged 310 sessions\n",
    "- Session date range: From approximately March 2024 to August 2024\n",
    "\n",
    "Observations & Issues\n",
    "- Missing data: Two sessions are missing end_time.\n",
    "- Session duration: Not provided directly, must be calculated from start and end timestamps.\n",
    "- Time of day: Available in string form but not separated — must be parsed to analyze peak usage hours."
   ]
  },
  {
   "cell_type": "markdown",
   "id": "bde8ad41-1c0e-41c7-835c-d133a4dae291",
   "metadata": {},
   "source": [
    "## Methods & Results\n",
    "\n",
    "### Preliminary Exploratory Data Analysis"
   ]
  },
  {
   "cell_type": "code",
   "execution_count": 1,
   "id": "be9cccb2-8545-46be-bb4f-8cef031a100f",
   "metadata": {
    "scrolled": true
   },
   "outputs": [
    {
     "name": "stderr",
     "output_type": "stream",
     "text": [
      "── \u001b[1mAttaching core tidyverse packages\u001b[22m ──────────────────────── tidyverse 2.0.0 ──\n",
      "\u001b[32m✔\u001b[39m \u001b[34mdplyr    \u001b[39m 1.1.4     \u001b[32m✔\u001b[39m \u001b[34mreadr    \u001b[39m 2.1.5\n",
      "\u001b[32m✔\u001b[39m \u001b[34mforcats  \u001b[39m 1.0.0     \u001b[32m✔\u001b[39m \u001b[34mstringr  \u001b[39m 1.5.1\n",
      "\u001b[32m✔\u001b[39m \u001b[34mggplot2  \u001b[39m 3.5.1     \u001b[32m✔\u001b[39m \u001b[34mtibble   \u001b[39m 3.2.1\n",
      "\u001b[32m✔\u001b[39m \u001b[34mlubridate\u001b[39m 1.9.3     \u001b[32m✔\u001b[39m \u001b[34mtidyr    \u001b[39m 1.3.1\n",
      "\u001b[32m✔\u001b[39m \u001b[34mpurrr    \u001b[39m 1.0.2     \n",
      "── \u001b[1mConflicts\u001b[22m ────────────────────────────────────────── tidyverse_conflicts() ──\n",
      "\u001b[31m✖\u001b[39m \u001b[34mdplyr\u001b[39m::\u001b[32mfilter()\u001b[39m masks \u001b[34mstats\u001b[39m::filter()\n",
      "\u001b[31m✖\u001b[39m \u001b[34mdplyr\u001b[39m::\u001b[32mlag()\u001b[39m    masks \u001b[34mstats\u001b[39m::lag()\n",
      "\u001b[36mℹ\u001b[39m Use the conflicted package (\u001b[3m\u001b[34m<http://conflicted.r-lib.org/>\u001b[39m\u001b[23m) to force all conflicts to become errors\n",
      "── \u001b[1mAttaching packages\u001b[22m ────────────────────────────────────── tidymodels 1.1.1 ──\n",
      "\n",
      "\u001b[32m✔\u001b[39m \u001b[34mbroom       \u001b[39m 1.0.6     \u001b[32m✔\u001b[39m \u001b[34mrsample     \u001b[39m 1.2.1\n",
      "\u001b[32m✔\u001b[39m \u001b[34mdials       \u001b[39m 1.3.0     \u001b[32m✔\u001b[39m \u001b[34mtune        \u001b[39m 1.1.2\n",
      "\u001b[32m✔\u001b[39m \u001b[34minfer       \u001b[39m 1.0.7     \u001b[32m✔\u001b[39m \u001b[34mworkflows   \u001b[39m 1.1.4\n",
      "\u001b[32m✔\u001b[39m \u001b[34mmodeldata   \u001b[39m 1.4.0     \u001b[32m✔\u001b[39m \u001b[34mworkflowsets\u001b[39m 1.0.1\n",
      "\u001b[32m✔\u001b[39m \u001b[34mparsnip     \u001b[39m 1.2.1     \u001b[32m✔\u001b[39m \u001b[34myardstick   \u001b[39m 1.3.1\n",
      "\u001b[32m✔\u001b[39m \u001b[34mrecipes     \u001b[39m 1.1.0     \n",
      "\n",
      "── \u001b[1mConflicts\u001b[22m ───────────────────────────────────────── tidymodels_conflicts() ──\n",
      "\u001b[31m✖\u001b[39m \u001b[34mscales\u001b[39m::\u001b[32mdiscard()\u001b[39m masks \u001b[34mpurrr\u001b[39m::discard()\n",
      "\u001b[31m✖\u001b[39m \u001b[34mdplyr\u001b[39m::\u001b[32mfilter()\u001b[39m   masks \u001b[34mstats\u001b[39m::filter()\n",
      "\u001b[31m✖\u001b[39m \u001b[34mrecipes\u001b[39m::\u001b[32mfixed()\u001b[39m  masks \u001b[34mstringr\u001b[39m::fixed()\n",
      "\u001b[31m✖\u001b[39m \u001b[34mdplyr\u001b[39m::\u001b[32mlag()\u001b[39m      masks \u001b[34mstats\u001b[39m::lag()\n",
      "\u001b[31m✖\u001b[39m \u001b[34myardstick\u001b[39m::\u001b[32mspec()\u001b[39m masks \u001b[34mreadr\u001b[39m::spec()\n",
      "\u001b[31m✖\u001b[39m \u001b[34mrecipes\u001b[39m::\u001b[32mstep()\u001b[39m   masks \u001b[34mstats\u001b[39m::step()\n",
      "\u001b[34m•\u001b[39m Search for functions across packages at \u001b[32mhttps://www.tidymodels.org/find/\u001b[39m\n",
      "\n",
      "Warning message in file(filename, \"r\", encoding = encoding):\n",
      "“cannot open file 'cleanup.R': No such file or directory”\n"
     ]
    },
    {
     "ename": "ERROR",
     "evalue": "Error in file(filename, \"r\", encoding = encoding): cannot open the connection\n",
     "output_type": "error",
     "traceback": [
      "Error in file(filename, \"r\", encoding = encoding): cannot open the connection\nTraceback:\n",
      "1. source(\"cleanup.R\")",
      "2. file(filename, \"r\", encoding = encoding)"
     ]
    }
   ],
   "source": [
    "library(tidyverse)\n",
    "library(repr)\n",
    "library(tidymodels)\n",
    "options(repr.matrix.max.rows = 6)\n",
    "source(\"cleanup.R\")"
   ]
  },
  {
   "cell_type": "markdown",
   "id": "5736ab25-90da-422a-83c0-14d8287c6607",
   "metadata": {},
   "source": []
  },
  {
   "cell_type": "code",
   "execution_count": null,
   "id": "1709b5dd-8fa0-4db3-934f-2c20399db481",
   "metadata": {},
   "outputs": [],
   "source": []
  }
 ],
 "metadata": {
  "kernelspec": {
   "display_name": "R",
   "language": "R",
   "name": "ir"
  },
  "language_info": {
   "codemirror_mode": "r",
   "file_extension": ".r",
   "mimetype": "text/x-r-source",
   "name": "R",
   "pygments_lexer": "r",
   "version": "4.3.3"
  }
 },
 "nbformat": 4,
 "nbformat_minor": 5
}
