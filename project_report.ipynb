{
 "cells": [
  {
   "cell_type": "markdown",
   "id": "8623914c-9cba-4d46-8493-5b826c6f78a7",
   "metadata": {
    "editable": true,
    "slideshow": {
     "slide_type": ""
    },
    "tags": []
   },
   "source": [
    "### Project Report\n",
    "# Predicting Usage of a Video Game Research Server\n",
    "\n",
    "By Victoria Zhou"
   ]
  },
  {
   "cell_type": "markdown",
   "id": "46d5b0d2-4aaf-4e42-baca-73f426bc9be5",
   "metadata": {},
   "source": [
    "## Introduction"
   ]
  },
  {
   "attachments": {},
   "cell_type": "markdown",
   "id": "850d31cc-2cd4-430b-91fa-54332313bfb7",
   "metadata": {},
   "source": [
    "Video games are a major part of modern entertainment and social interaction. As games grow more complex, understanding player behaviour helps improve design and infrastructure. Using data collected from the UBC Computer Science research group, I analyzed whether certain player traits can predict newsletter subscription.\n",
    "\n",
    "My guiding question is: Can age, gender, experience, and played hours predict whether a player subscribes to the game-related newsletter?\n",
    "\n",
    "I used two datasets: one with individual player information and another with records of their play sessions.\n",
    "\n",
    "### Players Dataset Summary\n",
    "\n",
    "| Variable Name | Variable Type | Description |\n",
    "| --- | ----------- | -----------|\n",
    "| experience | factor | Level of gameplay experience (Beginner, Amateur, Regular, Pro, Veteran).|\n",
    "| subscribe | logical | Whether the player subscribed to the newsletter (TRUE or FALSE).|\n",
    "| hashedEmail | character | Hashed email identifier (used to anonymize individual players).|\n",
    "| played_hours | numeric | Total number of hours the player has spent on the server.|\n",
    "| name | character | Player’s in-game display name (not used in analysis).|\n",
    "| gender | factor | Player’s self-reported gender (Male, Female, Non-binary, Two-Spirited, Agender, Prefer not to say, Other).|\n",
    "| Age | integer | Player’s age in years.|\n",
    "\n",
    "Summary Statistics & Key Insights\n",
    "- Number of observations: 196 players\n",
    "- Number of variables: 7\n",
    "- Source: Minecraft research server\n",
    "- Collection Method: Player info collected at account registration, and gameplay time was recorded during server use.\n",
    "- Subscription: 144 players subscribed (73%)\n",
    "- Age: Mean = 20.5, Median = 19, Range = 8–50 \n",
    "- Playtime: Mean = 5.85 hours\n",
    "- Most common experience level: Amateur (63 players)\n",
    "- Most common gender: Male (124 players)\n",
    "\n",
    "Observations & Issues\n",
    "- Missing values: Only in Age (2 cases)\n",
    "- Limited behaviour tracking: No session or in-game activity metrics\n",
    "- Sampling bias: Likely overrepresents younger users (median age = 19)\n",
    "\n",
    "### Sessions Dataset Summary\n",
    "\n",
    "| Variable Name | Variable Type | Description |\n",
    "| --- | ----------- | -----------|\n",
    "| hashedEmail | character | Player identifier to link with user-level data.|\n",
    "| start_time | Date | Date the session started (DD/MM/YYYY).|\n",
    "| end_time | Date | Date the session ended (DD/MM/YYYY).|\n",
    "| original_start_time | numeric | Unix timestamp of start time (milliseconds).|\n",
    "| original_end_time | numeric | Unix timestamp of end time (milliseconds).|\n",
    "\n",
    "Summary Statistics & Key Insights\n",
    "- Number of observations: 1,535 session records\n",
    "- Number of variables: 5\n",
    "- Source: Minecraft research server \n",
    "- Collection Method: Collected automatically by the server each time a player logged in and out\n",
    "- Most active player: Logged 310 sessions\n",
    "- Session date range: From approximately March 2024 to August 2024\n",
    "\n",
    "Observations & Issues\n",
    "- Missing data: Two sessions are missing end_time.\n",
    "- Session duration: Not provided directly, must be calculated from start and end timestamps.\n",
    "- Time of day: Available in string form but not separated — must be parsed to analyze peak usage hours."
   ]
  },
  {
   "cell_type": "markdown",
   "id": "bde8ad41-1c0e-41c7-835c-d133a4dae291",
   "metadata": {},
   "source": [
    "## Methods & Results\n",
    "\n",
    "### Preliminary Exploratory Data Analysis"
   ]
  },
  {
   "cell_type": "code",
   "execution_count": 1,
   "id": "be9cccb2-8545-46be-bb4f-8cef031a100f",
   "metadata": {
    "scrolled": true
   },
   "outputs": [
    {
     "name": "stderr",
     "output_type": "stream",
     "text": [
      "── \u001b[1mAttaching core tidyverse packages\u001b[22m ──────────────────────── tidyverse 2.0.0 ──\n",
      "\u001b[32m✔\u001b[39m \u001b[34mdplyr    \u001b[39m 1.1.4     \u001b[32m✔\u001b[39m \u001b[34mreadr    \u001b[39m 2.1.5\n",
      "\u001b[32m✔\u001b[39m \u001b[34mforcats  \u001b[39m 1.0.0     \u001b[32m✔\u001b[39m \u001b[34mstringr  \u001b[39m 1.5.1\n",
      "\u001b[32m✔\u001b[39m \u001b[34mggplot2  \u001b[39m 3.5.1     \u001b[32m✔\u001b[39m \u001b[34mtibble   \u001b[39m 3.2.1\n",
      "\u001b[32m✔\u001b[39m \u001b[34mlubridate\u001b[39m 1.9.3     \u001b[32m✔\u001b[39m \u001b[34mtidyr    \u001b[39m 1.3.1\n",
      "\u001b[32m✔\u001b[39m \u001b[34mpurrr    \u001b[39m 1.0.2     \n",
      "── \u001b[1mConflicts\u001b[22m ────────────────────────────────────────── tidyverse_conflicts() ──\n",
      "\u001b[31m✖\u001b[39m \u001b[34mdplyr\u001b[39m::\u001b[32mfilter()\u001b[39m masks \u001b[34mstats\u001b[39m::filter()\n",
      "\u001b[31m✖\u001b[39m \u001b[34mdplyr\u001b[39m::\u001b[32mlag()\u001b[39m    masks \u001b[34mstats\u001b[39m::lag()\n",
      "\u001b[36mℹ\u001b[39m Use the conflicted package (\u001b[3m\u001b[34m<http://conflicted.r-lib.org/>\u001b[39m\u001b[23m) to force all conflicts to become errors\n",
      "── \u001b[1mAttaching packages\u001b[22m ────────────────────────────────────── tidymodels 1.1.1 ──\n",
      "\n",
      "\u001b[32m✔\u001b[39m \u001b[34mbroom       \u001b[39m 1.0.6     \u001b[32m✔\u001b[39m \u001b[34mrsample     \u001b[39m 1.2.1\n",
      "\u001b[32m✔\u001b[39m \u001b[34mdials       \u001b[39m 1.3.0     \u001b[32m✔\u001b[39m \u001b[34mtune        \u001b[39m 1.1.2\n",
      "\u001b[32m✔\u001b[39m \u001b[34minfer       \u001b[39m 1.0.7     \u001b[32m✔\u001b[39m \u001b[34mworkflows   \u001b[39m 1.1.4\n",
      "\u001b[32m✔\u001b[39m \u001b[34mmodeldata   \u001b[39m 1.4.0     \u001b[32m✔\u001b[39m \u001b[34mworkflowsets\u001b[39m 1.0.1\n",
      "\u001b[32m✔\u001b[39m \u001b[34mparsnip     \u001b[39m 1.2.1     \u001b[32m✔\u001b[39m \u001b[34myardstick   \u001b[39m 1.3.1\n",
      "\u001b[32m✔\u001b[39m \u001b[34mrecipes     \u001b[39m 1.1.0     \n",
      "\n",
      "── \u001b[1mConflicts\u001b[22m ───────────────────────────────────────── tidymodels_conflicts() ──\n",
      "\u001b[31m✖\u001b[39m \u001b[34mscales\u001b[39m::\u001b[32mdiscard()\u001b[39m masks \u001b[34mpurrr\u001b[39m::discard()\n",
      "\u001b[31m✖\u001b[39m \u001b[34mdplyr\u001b[39m::\u001b[32mfilter()\u001b[39m   masks \u001b[34mstats\u001b[39m::filter()\n",
      "\u001b[31m✖\u001b[39m \u001b[34mrecipes\u001b[39m::\u001b[32mfixed()\u001b[39m  masks \u001b[34mstringr\u001b[39m::fixed()\n",
      "\u001b[31m✖\u001b[39m \u001b[34mdplyr\u001b[39m::\u001b[32mlag()\u001b[39m      masks \u001b[34mstats\u001b[39m::lag()\n",
      "\u001b[31m✖\u001b[39m \u001b[34myardstick\u001b[39m::\u001b[32mspec()\u001b[39m masks \u001b[34mreadr\u001b[39m::spec()\n",
      "\u001b[31m✖\u001b[39m \u001b[34mrecipes\u001b[39m::\u001b[32mstep()\u001b[39m   masks \u001b[34mstats\u001b[39m::step()\n",
      "\u001b[34m•\u001b[39m Search for functions across packages at \u001b[32mhttps://www.tidymodels.org/find/\u001b[39m\n",
      "\n",
      "Warning message in file(filename, \"r\", encoding = encoding):\n",
      "“cannot open file 'cleanup.R': No such file or directory”\n"
     ]
    },
    {
     "ename": "ERROR",
     "evalue": "Error in file(filename, \"r\", encoding = encoding): cannot open the connection\n",
     "output_type": "error",
     "traceback": [
      "Error in file(filename, \"r\", encoding = encoding): cannot open the connection\nTraceback:\n",
      "1. source(\"cleanup.R\")",
      "2. file(filename, \"r\", encoding = encoding)"
     ]
    }
   ],
   "source": [
    "library(tidyverse)\n",
    "library(repr)\n",
    "library(tidymodels)\n",
    "options(repr.matrix.max.rows = 6)\n",
    "source(\"cleanup.R\")"
   ]
  },
  {
   "cell_type": "markdown",
   "id": "5736ab25-90da-422a-83c0-14d8287c6607",
   "metadata": {},
   "source": [
    "### 1. Read and Tidy Data\n",
    "For this project, I decided to use the variables age, experience, gender, played hours, and subscribe from the Minecraft player dataset.\n",
    "\n",
    "To tidy and modify our data, I used the mutate and as_factor functions to convert character and logical types to factor types so that I could use them as categorical variables in the analysis. Then, I used the select function to create a data frame with only the columns I wanted to analyze."
   ]
  },
  {
   "cell_type": "code",
   "execution_count": 18,
   "id": "1709b5dd-8fa0-4db3-934f-2c20399db481",
   "metadata": {},
   "outputs": [
    {
     "name": "stderr",
     "output_type": "stream",
     "text": [
      "\u001b[1mRows: \u001b[22m\u001b[34m196\u001b[39m \u001b[1mColumns: \u001b[22m\u001b[34m7\u001b[39m\n",
      "\u001b[36m──\u001b[39m \u001b[1mColumn specification\u001b[22m \u001b[36m────────────────────────────────────────────────────────\u001b[39m\n",
      "\u001b[1mDelimiter:\u001b[22m \",\"\n",
      "\u001b[31mchr\u001b[39m (4): experience, hashedEmail, name, gender\n",
      "\u001b[32mdbl\u001b[39m (2): played_hours, Age\n",
      "\u001b[33mlgl\u001b[39m (1): subscribe\n",
      "\n",
      "\u001b[36mℹ\u001b[39m Use `spec()` to retrieve the full column specification for this data.\n",
      "\u001b[36mℹ\u001b[39m Specify the column types or set `show_col_types = FALSE` to quiet this message.\n"
     ]
    },
    {
     "data": {
      "text/html": [
       "<table class=\"dataframe\">\n",
       "<caption>A tibble: 6 × 7</caption>\n",
       "<thead>\n",
       "\t<tr><th scope=col>experience</th><th scope=col>subscribe</th><th scope=col>hashedEmail</th><th scope=col>played_hours</th><th scope=col>name</th><th scope=col>gender</th><th scope=col>Age</th></tr>\n",
       "\t<tr><th scope=col>&lt;chr&gt;</th><th scope=col>&lt;lgl&gt;</th><th scope=col>&lt;chr&gt;</th><th scope=col>&lt;dbl&gt;</th><th scope=col>&lt;chr&gt;</th><th scope=col>&lt;chr&gt;</th><th scope=col>&lt;dbl&gt;</th></tr>\n",
       "</thead>\n",
       "<tbody>\n",
       "\t<tr><td>Pro    </td><td> TRUE</td><td>f6daba428a5e19a3d47574858c13550499be23603422e6a0ee9728f8b53e192d</td><td>30.3</td><td>Morgan   </td><td>Male  </td><td> 9</td></tr>\n",
       "\t<tr><td>Veteran</td><td> TRUE</td><td>f3c813577c458ba0dfef80996f8f32c93b6e8af1fa939732842f2312358a88e9</td><td> 3.8</td><td>Christian</td><td>Male  </td><td>17</td></tr>\n",
       "\t<tr><td>Veteran</td><td>FALSE</td><td>b674dd7ee0d24096d1c019615ce4d12b20fcbff12d79d3c5a9d2118eb7ccbb28</td><td> 0.0</td><td>Blake    </td><td>Male  </td><td>17</td></tr>\n",
       "\t<tr><td>Amateur</td><td> TRUE</td><td>23fe711e0e3b77f1da7aa221ab1192afe21648d47d2b4fa7a5a659ff443a0eb5</td><td> 0.7</td><td>Flora    </td><td>Female</td><td>21</td></tr>\n",
       "\t<tr><td>Regular</td><td> TRUE</td><td>7dc01f10bf20671ecfccdac23812b1b415acd42c2147cb0af4d48fcce2420f3e</td><td> 0.1</td><td>Kylie    </td><td>Male  </td><td>21</td></tr>\n",
       "\t<tr><td>Amateur</td><td> TRUE</td><td>f58aad5996a435f16b0284a3b267f973f9af99e7a89bee0430055a44fa92f977</td><td> 0.0</td><td>Adrian   </td><td>Female</td><td>17</td></tr>\n",
       "</tbody>\n",
       "</table>\n"
      ],
      "text/latex": [
       "A tibble: 6 × 7\n",
       "\\begin{tabular}{lllllll}\n",
       " experience & subscribe & hashedEmail & played\\_hours & name & gender & Age\\\\\n",
       " <chr> & <lgl> & <chr> & <dbl> & <chr> & <chr> & <dbl>\\\\\n",
       "\\hline\n",
       "\t Pro     &  TRUE & f6daba428a5e19a3d47574858c13550499be23603422e6a0ee9728f8b53e192d & 30.3 & Morgan    & Male   &  9\\\\\n",
       "\t Veteran &  TRUE & f3c813577c458ba0dfef80996f8f32c93b6e8af1fa939732842f2312358a88e9 &  3.8 & Christian & Male   & 17\\\\\n",
       "\t Veteran & FALSE & b674dd7ee0d24096d1c019615ce4d12b20fcbff12d79d3c5a9d2118eb7ccbb28 &  0.0 & Blake     & Male   & 17\\\\\n",
       "\t Amateur &  TRUE & 23fe711e0e3b77f1da7aa221ab1192afe21648d47d2b4fa7a5a659ff443a0eb5 &  0.7 & Flora     & Female & 21\\\\\n",
       "\t Regular &  TRUE & 7dc01f10bf20671ecfccdac23812b1b415acd42c2147cb0af4d48fcce2420f3e &  0.1 & Kylie     & Male   & 21\\\\\n",
       "\t Amateur &  TRUE & f58aad5996a435f16b0284a3b267f973f9af99e7a89bee0430055a44fa92f977 &  0.0 & Adrian    & Female & 17\\\\\n",
       "\\end{tabular}\n"
      ],
      "text/markdown": [
       "\n",
       "A tibble: 6 × 7\n",
       "\n",
       "| experience &lt;chr&gt; | subscribe &lt;lgl&gt; | hashedEmail &lt;chr&gt; | played_hours &lt;dbl&gt; | name &lt;chr&gt; | gender &lt;chr&gt; | Age &lt;dbl&gt; |\n",
       "|---|---|---|---|---|---|---|\n",
       "| Pro     |  TRUE | f6daba428a5e19a3d47574858c13550499be23603422e6a0ee9728f8b53e192d | 30.3 | Morgan    | Male   |  9 |\n",
       "| Veteran |  TRUE | f3c813577c458ba0dfef80996f8f32c93b6e8af1fa939732842f2312358a88e9 |  3.8 | Christian | Male   | 17 |\n",
       "| Veteran | FALSE | b674dd7ee0d24096d1c019615ce4d12b20fcbff12d79d3c5a9d2118eb7ccbb28 |  0.0 | Blake     | Male   | 17 |\n",
       "| Amateur |  TRUE | 23fe711e0e3b77f1da7aa221ab1192afe21648d47d2b4fa7a5a659ff443a0eb5 |  0.7 | Flora     | Female | 21 |\n",
       "| Regular |  TRUE | 7dc01f10bf20671ecfccdac23812b1b415acd42c2147cb0af4d48fcce2420f3e |  0.1 | Kylie     | Male   | 21 |\n",
       "| Amateur |  TRUE | f58aad5996a435f16b0284a3b267f973f9af99e7a89bee0430055a44fa92f977 |  0.0 | Adrian    | Female | 17 |\n",
       "\n"
      ],
      "text/plain": [
       "  experience subscribe\n",
       "1 Pro         TRUE    \n",
       "2 Veteran     TRUE    \n",
       "3 Veteran    FALSE    \n",
       "4 Amateur     TRUE    \n",
       "5 Regular     TRUE    \n",
       "6 Amateur     TRUE    \n",
       "  hashedEmail                                                      played_hours\n",
       "1 f6daba428a5e19a3d47574858c13550499be23603422e6a0ee9728f8b53e192d 30.3        \n",
       "2 f3c813577c458ba0dfef80996f8f32c93b6e8af1fa939732842f2312358a88e9  3.8        \n",
       "3 b674dd7ee0d24096d1c019615ce4d12b20fcbff12d79d3c5a9d2118eb7ccbb28  0.0        \n",
       "4 23fe711e0e3b77f1da7aa221ab1192afe21648d47d2b4fa7a5a659ff443a0eb5  0.7        \n",
       "5 7dc01f10bf20671ecfccdac23812b1b415acd42c2147cb0af4d48fcce2420f3e  0.1        \n",
       "6 f58aad5996a435f16b0284a3b267f973f9af99e7a89bee0430055a44fa92f977  0.0        \n",
       "  name      gender Age\n",
       "1 Morgan    Male    9 \n",
       "2 Christian Male   17 \n",
       "3 Blake     Male   17 \n",
       "4 Flora     Female 21 \n",
       "5 Kylie     Male   21 \n",
       "6 Adrian    Female 17 "
      ]
     },
     "metadata": {},
     "output_type": "display_data"
    }
   ],
   "source": [
    "#players <- read_csv(\"players.csv\")\n",
    "# to demonstrate that the dataset is readable from local into R\n",
    "# I first downloaded the Minecraft player dataset provided by the UBC research group\n",
    "# Then, I saved the file in my local directory for easy access\n",
    "# Finally, I used read_csv to import the raw data into R for analysis\n",
    "players <- read_csv(\"players.csv\")\n",
    "head(players)\n"
   ]
  },
  {
   "cell_type": "code",
   "execution_count": 19,
   "id": "b9b058b4-985f-4049-bc82-55f8ae2ce5ed",
   "metadata": {},
   "outputs": [
    {
     "data": {
      "text/html": [
       "<table class=\"dataframe\">\n",
       "<caption>A tibble: 196 × 5</caption>\n",
       "<thead>\n",
       "\t<tr><th scope=col>experience</th><th scope=col>subscribe</th><th scope=col>played_hours</th><th scope=col>gender</th><th scope=col>Age</th></tr>\n",
       "\t<tr><th scope=col>&lt;fct&gt;</th><th scope=col>&lt;fct&gt;</th><th scope=col>&lt;dbl&gt;</th><th scope=col>&lt;fct&gt;</th><th scope=col>&lt;dbl&gt;</th></tr>\n",
       "</thead>\n",
       "<tbody>\n",
       "\t<tr><td>Pro    </td><td>TRUE </td><td>30.3</td><td>Male</td><td> 9</td></tr>\n",
       "\t<tr><td>Veteran</td><td>TRUE </td><td> 3.8</td><td>Male</td><td>17</td></tr>\n",
       "\t<tr><td>Veteran</td><td>FALSE</td><td> 0.0</td><td>Male</td><td>17</td></tr>\n",
       "\t<tr><td>⋮</td><td>⋮</td><td>⋮</td><td>⋮</td><td>⋮</td></tr>\n",
       "\t<tr><td>Amateur</td><td>FALSE</td><td>0.0</td><td>Prefer not to say</td><td>17</td></tr>\n",
       "\t<tr><td>Amateur</td><td>FALSE</td><td>2.3</td><td>Male             </td><td>17</td></tr>\n",
       "\t<tr><td>Pro    </td><td>TRUE </td><td>0.2</td><td>Other            </td><td>NA</td></tr>\n",
       "</tbody>\n",
       "</table>\n"
      ],
      "text/latex": [
       "A tibble: 196 × 5\n",
       "\\begin{tabular}{lllll}\n",
       " experience & subscribe & played\\_hours & gender & Age\\\\\n",
       " <fct> & <fct> & <dbl> & <fct> & <dbl>\\\\\n",
       "\\hline\n",
       "\t Pro     & TRUE  & 30.3 & Male &  9\\\\\n",
       "\t Veteran & TRUE  &  3.8 & Male & 17\\\\\n",
       "\t Veteran & FALSE &  0.0 & Male & 17\\\\\n",
       "\t ⋮ & ⋮ & ⋮ & ⋮ & ⋮\\\\\n",
       "\t Amateur & FALSE & 0.0 & Prefer not to say & 17\\\\\n",
       "\t Amateur & FALSE & 2.3 & Male              & 17\\\\\n",
       "\t Pro     & TRUE  & 0.2 & Other             & NA\\\\\n",
       "\\end{tabular}\n"
      ],
      "text/markdown": [
       "\n",
       "A tibble: 196 × 5\n",
       "\n",
       "| experience &lt;fct&gt; | subscribe &lt;fct&gt; | played_hours &lt;dbl&gt; | gender &lt;fct&gt; | Age &lt;dbl&gt; |\n",
       "|---|---|---|---|---|\n",
       "| Pro     | TRUE  | 30.3 | Male |  9 |\n",
       "| Veteran | TRUE  |  3.8 | Male | 17 |\n",
       "| Veteran | FALSE |  0.0 | Male | 17 |\n",
       "| ⋮ | ⋮ | ⋮ | ⋮ | ⋮ |\n",
       "| Amateur | FALSE | 0.0 | Prefer not to say | 17 |\n",
       "| Amateur | FALSE | 2.3 | Male              | 17 |\n",
       "| Pro     | TRUE  | 0.2 | Other             | NA |\n",
       "\n"
      ],
      "text/plain": [
       "    experience subscribe played_hours gender            Age\n",
       "1   Pro        TRUE      30.3         Male               9 \n",
       "2   Veteran    TRUE       3.8         Male              17 \n",
       "3   Veteran    FALSE      0.0         Male              17 \n",
       "⋮   ⋮          ⋮         ⋮            ⋮                 ⋮  \n",
       "194 Amateur    FALSE     0.0          Prefer not to say 17 \n",
       "195 Amateur    FALSE     2.3          Male              17 \n",
       "196 Pro        TRUE      0.2          Other             NA "
      ]
     },
     "metadata": {},
     "output_type": "display_data"
    }
   ],
   "source": [
    "players<-players|>\n",
    "mutate(experience=as_factor(experience))|>\n",
    "mutate(subscribe=as_factor(subscribe))|>\n",
    "mutate(gender=as_factor(gender))|>\n",
    "select(-hashedEmail,-name)\n",
    "players"
   ]
  },
  {
   "cell_type": "markdown",
   "id": "d93db5aa-f1e4-4716-b647-f98595b57fcd",
   "metadata": {},
   "source": [
    "### 2. Summarize Data\n",
    "First, the set.seed function is used to ensure that results are reproducible.\n",
    "\n",
    "Then, the data is split into 75% for training and 25% for testing using the initial_split function.\n",
    "\n",
    "To summarize the training data, I counted the percentage of player who subscribed to the game-related newsletter using the group_by and summarize functions. I also used map_df to calculate and compare the average value of each predictor between subscribers and non-subscribers.\n"
   ]
  },
  {
   "cell_type": "code",
   "execution_count": 20,
   "id": "1e5a05d6-b483-4bf6-829e-5dcb3a150eb9",
   "metadata": {},
   "outputs": [],
   "source": [
    "set.seed(123) # ensures replicability\n",
    "players_split <- initial_split(players, prop = 0.75, strata = subscribe) \n",
    "players_training <- training(players_split)\n",
    "players_testing <- testing(players_split)"
   ]
  },
  {
   "cell_type": "code",
   "execution_count": 21,
   "id": "f2022215-8ff3-4b17-afca-9fbeb7ea2ef9",
   "metadata": {},
   "outputs": [
    {
     "name": "stdout",
     "output_type": "stream",
     "text": [
      "Rows: 147\n",
      "Columns: 5\n",
      "$ experience   \u001b[3m\u001b[90m<fct>\u001b[39m\u001b[23m Amateur, Amateur, Veteran, Amateur, Veteran, Beginner, Re…\n",
      "$ subscribe    \u001b[3m\u001b[90m<fct>\u001b[39m\u001b[23m FALSE, FALSE, FALSE, FALSE, FALSE, FALSE, FALSE, FALSE, F…\n",
      "$ played_hours \u001b[3m\u001b[90m<dbl>\u001b[39m\u001b[23m 0.0, 0.1, 0.0, 0.0, 1.4, 0.0, 0.0, 0.9, 0.0, 0.1, 0.2, 0.…\n",
      "$ gender       \u001b[3m\u001b[90m<fct>\u001b[39m\u001b[23m Male, Female, Male, Prefer not to say, Prefer not to say,…\n",
      "$ Age          \u001b[3m\u001b[90m<dbl>\u001b[39m\u001b[23m 22, 17, 23, 33, 25, 24, 23, 18, 42, 22, 37, 28, 23, 17, 1…\n",
      "Rows: 49\n",
      "Columns: 5\n",
      "$ experience   \u001b[3m\u001b[90m<fct>\u001b[39m\u001b[23m Veteran, Veteran, Amateur, Amateur, Pro, Amateur, Regular…\n",
      "$ subscribe    \u001b[3m\u001b[90m<fct>\u001b[39m\u001b[23m TRUE, FALSE, TRUE, FALSE, TRUE, TRUE, TRUE, FALSE, TRUE, …\n",
      "$ played_hours \u001b[3m\u001b[90m<dbl>\u001b[39m\u001b[23m 3.8, 0.0, 0.7, 0.0, 0.0, 48.4, 0.3, 0.1, 0.6, 0.4, 5.6, 2…\n",
      "$ gender       \u001b[3m\u001b[90m<fct>\u001b[39m\u001b[23m Male, Male, Female, Male, Male, Female, Male, Male, Male,…\n",
      "$ Age          \u001b[3m\u001b[90m<dbl>\u001b[39m\u001b[23m 17, 17, 21, 21, 17, 17, 8, 18, 26, 20, 17, 11, 17, 15, 22…\n"
     ]
    }
   ],
   "source": [
    "glimpse(players_training)\n",
    "glimpse(players_testing)"
   ]
  },
  {
   "cell_type": "code",
   "execution_count": 22,
   "id": "59ae09be-1146-4e31-a619-a23e4a68a51c",
   "metadata": {},
   "outputs": [
    {
     "name": "stdout",
     "output_type": "stream",
     "text": [
      "Table 1: Number and Percentage of Players that Subscribe to the Newsletter\n"
     ]
    },
    {
     "data": {
      "text/html": [
       "<table class=\"dataframe\">\n",
       "<caption>A tibble: 2 × 3</caption>\n",
       "<thead>\n",
       "\t<tr><th scope=col>subscribe</th><th scope=col>count</th><th scope=col>percent</th></tr>\n",
       "\t<tr><th scope=col>&lt;fct&gt;</th><th scope=col>&lt;int&gt;</th><th scope=col>&lt;dbl&gt;</th></tr>\n",
       "</thead>\n",
       "<tbody>\n",
       "\t<tr><td>FALSE</td><td> 39</td><td>26.53061</td></tr>\n",
       "\t<tr><td>TRUE </td><td>108</td><td>73.46939</td></tr>\n",
       "</tbody>\n",
       "</table>\n"
      ],
      "text/latex": [
       "A tibble: 2 × 3\n",
       "\\begin{tabular}{lll}\n",
       " subscribe & count & percent\\\\\n",
       " <fct> & <int> & <dbl>\\\\\n",
       "\\hline\n",
       "\t FALSE &  39 & 26.53061\\\\\n",
       "\t TRUE  & 108 & 73.46939\\\\\n",
       "\\end{tabular}\n"
      ],
      "text/markdown": [
       "\n",
       "A tibble: 2 × 3\n",
       "\n",
       "| subscribe &lt;fct&gt; | count &lt;int&gt; | percent &lt;dbl&gt; |\n",
       "|---|---|---|\n",
       "| FALSE |  39 | 26.53061 |\n",
       "| TRUE  | 108 | 73.46939 |\n",
       "\n"
      ],
      "text/plain": [
       "  subscribe count percent \n",
       "1 FALSE      39   26.53061\n",
       "2 TRUE      108   73.46939"
      ]
     },
     "metadata": {},
     "output_type": "display_data"
    }
   ],
   "source": [
    "cat(\"Table 1: Number and Percentage of Players that Subscribe to the Newsletter\\n\")\n",
    "players_proportions <- players_training |>\n",
    "                          group_by(subscribe) |>\n",
    "                          summarize(count = n()) |>\n",
    "                          mutate(percent = 100*count/nrow(players_training))\n",
    "players_proportions"
   ]
  },
  {
   "cell_type": "code",
   "execution_count": 23,
   "id": "90871c5a-4472-49ae-ad7a-54c1ca4d5b34",
   "metadata": {},
   "outputs": [
    {
     "name": "stdout",
     "output_type": "stream",
     "text": [
      "Table 2: Average Predictor Values for Subscribers and Non-subscribers"
     ]
    },
    {
     "data": {
      "text/html": [
       "<table class=\"dataframe\">\n",
       "<caption>A tibble: 2 × 5</caption>\n",
       "<thead>\n",
       "\t<tr><th scope=col>subscribe</th><th scope=col>avg_age</th><th scope=col>avg_played_hours</th><th scope=col>mode_experience</th><th scope=col>mode_gender</th></tr>\n",
       "\t<tr><th scope=col>&lt;fct&gt;</th><th scope=col>&lt;dbl&gt;</th><th scope=col>&lt;dbl&gt;</th><th scope=col>&lt;fct&gt;</th><th scope=col>&lt;fct&gt;</th></tr>\n",
       "</thead>\n",
       "<tbody>\n",
       "\t<tr><td>FALSE</td><td>23.87179</td><td>0.4641026</td><td>Amateur</td><td>Male</td></tr>\n",
       "\t<tr><td>TRUE </td><td>19.93396</td><td>9.7250000</td><td>Amateur</td><td>Male</td></tr>\n",
       "</tbody>\n",
       "</table>\n"
      ],
      "text/latex": [
       "A tibble: 2 × 5\n",
       "\\begin{tabular}{lllll}\n",
       " subscribe & avg\\_age & avg\\_played\\_hours & mode\\_experience & mode\\_gender\\\\\n",
       " <fct> & <dbl> & <dbl> & <fct> & <fct>\\\\\n",
       "\\hline\n",
       "\t FALSE & 23.87179 & 0.4641026 & Amateur & Male\\\\\n",
       "\t TRUE  & 19.93396 & 9.7250000 & Amateur & Male\\\\\n",
       "\\end{tabular}\n"
      ],
      "text/markdown": [
       "\n",
       "A tibble: 2 × 5\n",
       "\n",
       "| subscribe &lt;fct&gt; | avg_age &lt;dbl&gt; | avg_played_hours &lt;dbl&gt; | mode_experience &lt;fct&gt; | mode_gender &lt;fct&gt; |\n",
       "|---|---|---|---|---|\n",
       "| FALSE | 23.87179 | 0.4641026 | Amateur | Male |\n",
       "| TRUE  | 19.93396 | 9.7250000 | Amateur | Male |\n",
       "\n"
      ],
      "text/plain": [
       "  subscribe avg_age  avg_played_hours mode_experience mode_gender\n",
       "1 FALSE     23.87179 0.4641026        Amateur         Male       \n",
       "2 TRUE      19.93396 9.7250000        Amateur         Male       "
      ]
     },
     "metadata": {},
     "output_type": "display_data"
    }
   ],
   "source": [
    "# Define a simple custom mode function\n",
    "get_mode <- function(x) {\n",
    "  uniq_vals <- unique(x)\n",
    "  uniq_vals[which.max(tabulate(match(x, uniq_vals)))]\n",
    "}\n",
    "\n",
    "cat(\"Table 2: Average Predictor Values for Subscribers and Non-subscribers\")\n",
    "comparison <- players_training |>\n",
    "                group_by(subscribe) |>\n",
    "                summarize(avg_age = mean(Age, na.rm=TRUE),\n",
    "                          avg_played_hours = mean(played_hours, na.rm=TRUE),\n",
    "                          mode_experience = get_mode(experience),\n",
    "                          mode_gender = get_mode(gender))\n",
    "comparison"
   ]
  },
  {
   "cell_type": "markdown",
   "id": "38938e25-a2f4-43a9-9520-755c66853e4e",
   "metadata": {},
   "source": [
    "### 3. Exploratory Data Visualization\n",
    "I created separate visualizations for each predictor to explore its relationship with newsletter subscriptions. For age and played_hours, I used geom_boxplot to compare the distribution and central tendency of these continuous variables between subscribers and non-subscribers. Boxplots make it easy to identify differences in medians, variability, and the presence of outliers. For experience level and gender, I used geom_bar with position = \"fill\" to show the proportion of players in each category who subscribed. This approach is well-suited for visualizing how categorical variables relate to a binary outcome."
   ]
  },
  {
   "cell_type": "code",
   "execution_count": null,
   "id": "fd668f5d-e4e1-4b62-a162-166b5a0bdfd5",
   "metadata": {},
   "outputs": [],
   "source": []
  }
 ],
 "metadata": {
  "kernelspec": {
   "display_name": "R",
   "language": "R",
   "name": "ir"
  },
  "language_info": {
   "codemirror_mode": "r",
   "file_extension": ".r",
   "mimetype": "text/x-r-source",
   "name": "R",
   "pygments_lexer": "r",
   "version": "4.3.3"
  }
 },
 "nbformat": 4,
 "nbformat_minor": 5
}
